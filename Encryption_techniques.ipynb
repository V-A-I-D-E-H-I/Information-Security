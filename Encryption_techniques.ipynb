{
  "nbformat": 4,
  "nbformat_minor": 0,
  "metadata": {
    "colab": {
      "provenance": []
    },
    "kernelspec": {
      "name": "python3",
      "display_name": "Python 3"
    },
    "language_info": {
      "name": "python"
    }
  },
  "cells": [
    {
      "cell_type": "markdown",
      "source": [
        "RSA"
      ],
      "metadata": {
        "id": "1PTDtezs1Pa7"
      }
    },
    {
      "cell_type": "code",
      "execution_count": null,
      "metadata": {
        "colab": {
          "base_uri": "https://localhost:8080/"
        },
        "id": "fm93CKX1vVx4",
        "outputId": "a1296228-3473-4eda-84fe-2ed03f7ce09a"
      },
      "outputs": [
        {
          "name": "stdout",
          "output_type": "stream",
          "text": [
            "53\n",
            "59\n",
            "3\n",
            "hi\n"
          ]
        }
      ],
      "source": [
        "p=int(input())\n",
        "q=int(input())\n",
        "e=int(input())\n",
        "s=str(input())"
      ]
    },
    {
      "cell_type": "code",
      "source": [
        "def gcd(a,b):\n",
        "  flag=0\n",
        "  if(a>b):\n",
        "    g=a\n",
        "    s=b\n",
        "  else:\n",
        "    g=b\n",
        "    s=a\n",
        "  for i in range(s,0,-1):\n",
        "    # print(\"i\",i)\n",
        "    if(g%i==0 and s%i==0):\n",
        "      gcd=i\n",
        "      break\n",
        "  return gcd\n",
        "\n"
      ],
      "metadata": {
        "id": "58dAVnJvv7F5"
      },
      "execution_count": null,
      "outputs": []
    },
    {
      "cell_type": "code",
      "source": [
        "n=p*q\n",
        "phin=(p-1)*(q-1)\n",
        "\n",
        "if(gcd(e,phin)!=1):\n",
        "  print(\"invalid e\")\n",
        "\n",
        "else:\n",
        "  puk=(e,n)\n",
        "  d=0\n",
        "\n",
        "  for k in range(1000):\n",
        "    d=(k*phin+1)/e\n",
        "    if(d.is_integer()):\n",
        "      print(\"final d\",d)\n",
        "      break\n",
        "\n",
        "  pvk=(d,n)"
      ],
      "metadata": {
        "colab": {
          "base_uri": "https://localhost:8080/"
        },
        "id": "KHCiuOm9vh2l",
        "outputId": "08101a58-335e-4598-d254-148ae51a8979"
      },
      "execution_count": null,
      "outputs": [
        {
          "output_type": "stream",
          "name": "stdout",
          "text": [
            "final d 2011.0\n",
            "dig 8\n",
            "dig 9\n",
            "num 89\n",
            "crypt 1394\n",
            "decrypt 89\n"
          ]
        }
      ]
    },
    {
      "cell_type": "code",
      "source": [
        "  c=0\n",
        "  num=13\n",
        "  # for i in range(len(s)):\n",
        "  #   dig=ord(s[i])-96\n",
        "  #   print(\"dig\",dig)\n",
        "  #   num=10*num+dig\n",
        "\n",
        "  # print(\"num\",num)\n",
        "\n",
        "  crypt=(num**e)%n\n",
        "  print(\"crypt\",crypt)\n",
        "  d=int(d)\n",
        "  dcrypt=(crypt**d)%n\n",
        "  print(\"decrypt\",dcrypt)"
      ],
      "metadata": {
        "id": "kbHcqJD3cPcY"
      },
      "execution_count": null,
      "outputs": []
    },
    {
      "cell_type": "markdown",
      "source": [
        "PlayFair"
      ],
      "metadata": {
        "id": "bvDf1aeY87Dc"
      }
    },
    {
      "cell_type": "code",
      "source": [
        "key=str(input())"
      ],
      "metadata": {
        "colab": {
          "base_uri": "https://localhost:8080/"
        },
        "id": "MUbZRXMl9FjN",
        "outputId": "e7545b5d-9559-4455-a7c5-b201caa7f46a"
      },
      "execution_count": null,
      "outputs": [
        {
          "name": "stdout",
          "output_type": "stream",
          "text": [
            "monarchy\n"
          ]
        }
      ]
    },
    {
      "cell_type": "code",
      "source": [
        "pt=str(input())"
      ],
      "metadata": {
        "colab": {
          "base_uri": "https://localhost:8080/"
        },
        "id": "foC241_I_V0v",
        "outputId": "38fe62ff-1cce-4ff9-c99c-5325a5d31c92"
      },
      "execution_count": null,
      "outputs": [
        {
          "name": "stdout",
          "output_type": "stream",
          "text": [
            "attack\n"
          ]
        }
      ]
    },
    {
      "cell_type": "code",
      "source": [
        "for i in range(1,len(pt),2):\n",
        "  if(pt[i-1]==pt[i] and i%2!=0):\n",
        "    pt=pt[:i]+'x'+pt[i:]\n",
        "    print(pt)\n",
        "\n",
        "if(len(pt)%2!=0):\n",
        "  pt=pt+'x'\n",
        "\n",
        "print(pt)"
      ],
      "metadata": {
        "colab": {
          "base_uri": "https://localhost:8080/"
        },
        "id": "mHWz73au9WQX",
        "outputId": "5f633bfc-5994-4f14-e620-0b2d0231861d"
      },
      "execution_count": null,
      "outputs": [
        {
          "output_type": "stream",
          "name": "stdout",
          "text": [
            "attack\n"
          ]
        }
      ]
    },
    {
      "cell_type": "code",
      "source": [
        "m=[[0,0,0,0,0],[0,0,0,0,0],[0,0,0,0,0],[0,0,0,0,0],[0,0,0,0,0]]\n",
        "\n",
        "c1=0\n",
        "c2=0\n",
        "l=['a','b','c','d','e','f','g','h','i','k','l','m','n','o','p','q','r','s','t','u','v','w','x','y','z']\n",
        "\n",
        "# if('i' in key or 'j' in key):\n",
        "#   flag=1\n",
        "\n",
        "for i in range(5):\n",
        "  for j in range(5):\n",
        "    if(c1<len(key)):\n",
        "      m[i][j]=key[c1]\n",
        "      c1+=1\n",
        "    else:\n",
        "\n",
        "      for k in range(c2,25):\n",
        "        # if(flag==1 and k==8 or k==9):\n",
        "        #   continue\n",
        "        # print(\"l[k]\",l[k])\n",
        "        if(l[k] not in key):\n",
        "          m[i][j]=l[k]\n",
        "          c2+=1\n",
        "          # print(\"i came here and this is\",c2,k,i,j,m[i][j])\n",
        "          break\n",
        "        else:\n",
        "          c2+=1\n",
        "\n",
        "\n",
        "for i in range(5):\n",
        "  for j in range(5):\n",
        "    print(m[i][j],end=\" \")\n",
        "  print(\"\")\n",
        "\n"
      ],
      "metadata": {
        "colab": {
          "base_uri": "https://localhost:8080/"
        },
        "id": "vyYy58OEiqeo",
        "outputId": "084b1082-ed5d-4540-aa40-724cc5c73ac9"
      },
      "execution_count": null,
      "outputs": [
        {
          "output_type": "stream",
          "name": "stdout",
          "text": [
            "m o n a r \n",
            "c h y b d \n",
            "e f g i k \n",
            "l p q s t \n",
            "u v w x z \n"
          ]
        }
      ]
    },
    {
      "cell_type": "code",
      "source": [
        "import numpy as np"
      ],
      "metadata": {
        "id": "onDQP9ruSgUl"
      },
      "execution_count": null,
      "outputs": []
    },
    {
      "cell_type": "code",
      "source": [
        "flag=0\n",
        "ind11=0\n",
        "ind12=0\n",
        "ind21=0\n",
        "ind22=0\n",
        "r=\"\"\n",
        "\n",
        "for k in range(0,len(pt),2):\n",
        "\n",
        "  flag1=0\n",
        "  for i in range(5):\n",
        "    for j in range(5):\n",
        "      if(pt[k]==m[i][j]):\n",
        "        ind11=i\n",
        "        ind12=j\n",
        "        flag=1\n",
        "        break\n",
        "\n",
        "    flag2=0\n",
        "    for i in range(5):\n",
        "      for j in range(5):\n",
        "        if(pt[k+1]==m[i][j]):\n",
        "          ind21=i\n",
        "          ind22=j\n",
        "          flag2=1\n",
        "          break\n",
        "\n",
        "  if(ind11==ind21):\n",
        "    r=r+m[ind11][(ind12+1)%5]+m[ind21][(ind22+1)%5]\n",
        "  elif(ind12==ind22):\n",
        "    r=r+m[(ind11+1)%5][ind12]+m[(ind21+1)%5][ind22]\n",
        "  else:\n",
        "    r=r+m[ind11][ind22]+m[ind21][ind12]\n",
        "  print(r)\n",
        "\n",
        "\n",
        "print(r)\n",
        "\n"
      ],
      "metadata": {
        "colab": {
          "base_uri": "https://localhost:8080/"
        },
        "id": "CYXPjFXsUUQZ",
        "outputId": "acfbf2cf-84a8-4568-8a35-c88c39d09fd0"
      },
      "execution_count": null,
      "outputs": [
        {
          "output_type": "stream",
          "name": "stdout",
          "text": [
            "rs\n",
            "rssr\n",
            "rssrde\n",
            "rssrde\n"
          ]
        }
      ]
    },
    {
      "cell_type": "markdown",
      "source": [
        "Row/Columnar Transposition"
      ],
      "metadata": {
        "id": "HvJy1GFNV3O3"
      }
    },
    {
      "cell_type": "code",
      "source": [
        "key=str(input())\n",
        "pt=str(input())"
      ],
      "metadata": {
        "id": "Q6MkXNm_VjOb",
        "colab": {
          "base_uri": "https://localhost:8080/"
        },
        "outputId": "298489fe-d2ee-42aa-8dc2-bf51daebd133"
      },
      "execution_count": null,
      "outputs": [
        {
          "name": "stdout",
          "output_type": "stream",
          "text": [
            "4312567\n",
            "kill corona virus at twelveam tomorrow\n"
          ]
        }
      ]
    },
    {
      "cell_type": "code",
      "source": [
        "#row\n",
        "s=pt.count(\" \")\n",
        "pt=pt.replace(\" \",\"\")\n",
        "\n",
        "\n",
        "n2=len(key)\n",
        "n1=(len(pt))%n2\n",
        "\n",
        "l=[]\n",
        "k=0\n",
        "\n",
        "for i in range(n1):\n",
        "  tl=[]\n",
        "  for j in range(n2):\n",
        "    if(k<len(pt)):\n",
        "      tl.append(pt[k])\n",
        "      k+=1\n",
        "    else:\n",
        "      tl.append('x')\n",
        "  l.append(tl)\n",
        "\n",
        "\n",
        "for i in range(n1):\n",
        "  for j in range(n2):\n",
        "    print(l[i][j], end=\" \")\n",
        "  print(\" \")\n",
        "\n",
        "ct=\"\"\n",
        "c=1\n",
        "while(c<=n2):\n",
        "  for j in range(len(key)):\n",
        "    if(int(key[j])==c):\n",
        "      for k in range(n1):\n",
        "        ct=ct+l[k][j]\n",
        "      c+=1\n",
        "      break\n",
        "\n",
        "ct\n"
      ],
      "metadata": {
        "colab": {
          "base_uri": "https://localhost:8080/"
        },
        "id": "35KD9TegWGM7",
        "outputId": "66d96ab3-b02e-4648-cc78-f246b4147fc7"
      },
      "execution_count": null,
      "outputs": [
        {
          "output_type": "stream",
          "name": "stdout",
          "text": [
            "k i l l c o r  \n",
            "o n a v i r u  \n",
            "s a t t w e l  \n",
            "v e a m t o m  \n",
            "o r r o w x x  \n"
          ]
        }
      ]
    },
    {
      "cell_type": "code",
      "source": [
        "\n"
      ],
      "metadata": {
        "id": "xP75sDHRdeK-",
        "colab": {
          "base_uri": "https://localhost:8080/",
          "height": 36
        },
        "outputId": "a2104c10-34ef-4df5-bfb4-abc94e3c3d1b"
      },
      "execution_count": null,
      "outputs": [
        {
          "output_type": "execute_result",
          "data": {
            "text/plain": [
              "'latarlvtmoinaerkosvociwtworeoxrulmx'"
            ],
            "application/vnd.google.colaboratory.intrinsic+json": {
              "type": "string"
            }
          },
          "metadata": {},
          "execution_count": 4
        }
      ]
    },
    {
      "cell_type": "code",
      "source": [
        "#row\n",
        "\n",
        "s=pt.count(\" \")\n",
        "pt=pt.replace(\" \",\"\")\n",
        "\n",
        "\n",
        "n1=len(key)\n",
        "n2=(len(pt))%n2\n",
        "\n",
        "l=[]\n",
        "k=0\n",
        "\n",
        "for i in range(n2):\n",
        "  tl=[]\n",
        "  for j in range(n1):\n",
        "    if(k<len(pt)):\n",
        "      tl.append(pt[k])\n",
        "      k+=1\n",
        "    else:\n",
        "      tl.append('x')\n",
        "  l.append(tl)\n",
        "\n",
        "\n",
        "for i in range(n2):\n",
        "  for j in range(n1):\n",
        "    print(l[i][j], end=\" \")\n",
        "  print(\" \")\n",
        "\n",
        "\n",
        "ct=\"\"\n",
        "c=1\n",
        "while(c<=n2):\n",
        "  for j in range(len(key)):\n",
        "    if(int(key[j])==c):\n",
        "      for k in range(n2):\n",
        "        ct=ct+l[j][k]\n",
        "      c+=1\n",
        "      break\n",
        "\n",
        "ct\n"
      ],
      "metadata": {
        "colab": {
          "base_uri": "https://localhost:8080/",
          "height": 126
        },
        "id": "tUDBQIQnta9o",
        "outputId": "bcee2b3d-4d98-4dcb-c739-678237a1a8b4"
      },
      "execution_count": null,
      "outputs": [
        {
          "output_type": "stream",
          "name": "stdout",
          "text": [
            "k i l l c o r  \n",
            "o n a v i r u  \n",
            "s a t t w e l  \n",
            "v e a m t o m  \n",
            "o r r o w x x  \n"
          ]
        },
        {
          "output_type": "execute_result",
          "data": {
            "text/plain": [
              "'sattwveamtonavikillcorrow'"
            ],
            "application/vnd.google.colaboratory.intrinsic+json": {
              "type": "string"
            }
          },
          "metadata": {},
          "execution_count": 6
        }
      ]
    },
    {
      "cell_type": "markdown",
      "source": [
        "Vernam"
      ],
      "metadata": {
        "id": "2kRWcEIrtfhq"
      }
    },
    {
      "cell_type": "code",
      "source": [
        "pt=str(input(\"Enter plain text \"))\n",
        "key=str(input(\"Enter key \"))"
      ],
      "metadata": {
        "colab": {
          "base_uri": "https://localhost:8080/"
        },
        "id": "Bafh4WW3uSU8",
        "outputId": "72503e50-6748-48da-ce0e-5becb738be29"
      },
      "execution_count": null,
      "outputs": [
        {
          "name": "stdout",
          "output_type": "stream",
          "text": [
            "Enter plain textoak\n",
            "Enter keyson\n"
          ]
        }
      ]
    },
    {
      "cell_type": "code",
      "source": [
        "if(len(pt)!=len(key)):\n",
        "  print(\"Length same rakho yar\")\n",
        "\n",
        "r=\"\"\n",
        "for i in range(len(pt)):\n",
        "  b=ord(pt[i])-97\n",
        "  c=ord(key[i])-97\n",
        "  ans=chr(((b^c)%26)+97)\n",
        "\n",
        "  r=r+ans\n",
        "\n",
        "print(r)\n"
      ],
      "metadata": {
        "colab": {
          "base_uri": "https://localhost:8080/"
        },
        "id": "nj82vA65tkMT",
        "outputId": "a15dcb10-8b82-4cea-d58e-fc59bb8c63b0"
      },
      "execution_count": null,
      "outputs": [
        {
          "output_type": "stream",
          "name": "stdout",
          "text": [
            "coh\n"
          ]
        }
      ]
    },
    {
      "cell_type": "markdown",
      "source": [
        "Product (includes ceaser and railfence)"
      ],
      "metadata": {
        "id": "pFjXP7RA1KpV"
      }
    },
    {
      "cell_type": "code",
      "source": [
        "def caesar_cipher(text, key):\n",
        "\n",
        "    a=\"\"\n",
        "    for i in text:\n",
        "      x=((ord(i)-97+key)%26)+97\n",
        "      a=a+(chr(x))\n",
        "    return a\n"
      ],
      "metadata": {
        "id": "9Ch71tefQOZJ"
      },
      "execution_count": null,
      "outputs": []
    },
    {
      "cell_type": "code",
      "source": [
        "def rail_fence_permutation(text, depth):\n",
        "\n",
        "    n = len(text)\n",
        "    fence = [[' ']*n for _ in range(depth)]\n",
        "\n",
        "    rail = 0\n",
        "    for i in range(n):\n",
        "        fence[rail][i] = text[i]\n",
        "        rail = (rail + 1) % depth\n",
        "\n",
        "    # if you want to print it\n",
        "    # for i in range(rails):\n",
        "    #   for j in range(num_chars):\n",
        "    #     print(fence[i][j],end=\"\")\n",
        "    #   print(\" \")\n",
        "\n",
        "    r=\"\"\n",
        "    for i in range(depth):\n",
        "      for j in range(n):\n",
        "        r=r+fence[i][j]\n",
        "\n",
        "    return r\n"
      ],
      "metadata": {
        "id": "qVBd2KbqSF3u"
      },
      "execution_count": null,
      "outputs": []
    },
    {
      "cell_type": "code",
      "source": [
        "\n",
        "def product_cipher(text, shift, rails):\n",
        "\n",
        "    substituted_text = caesar_cipher(text, shift)\n",
        "    permuted_text = rail_fence_permutation(substituted_text, rails)\n",
        "    return permuted_text\n",
        "\n",
        "# Example usage:\n",
        "original_text = \"Hello, World!\"\n",
        "shift_value = 3\n",
        "rails_value = 2\n",
        "\n",
        "encrypted_text = product_cipher(original_text, shift_value, rails_value)\n",
        "print(\"Original Text:\", original_text)\n",
        "print(\"Encrypted Text:\", encrypted_text)\n"
      ],
      "metadata": {
        "colab": {
          "base_uri": "https://localhost:8080/"
        },
        "id": "GdjGwLElP0mn",
        "outputId": "196f8727-9211-4cf8-b5cc-3672d3b69d04"
      },
      "execution_count": null,
      "outputs": [
        {
          "output_type": "stream",
          "name": "stdout",
          "text": [
            "Original Text: Hello, World!\n",
            "Encrypted Text: e o r q r o r h o c t u g \n"
          ]
        }
      ]
    },
    {
      "cell_type": "markdown",
      "source": [
        "Diffie Hellman"
      ],
      "metadata": {
        "id": "ipLChl09U8F6"
      }
    },
    {
      "cell_type": "code",
      "source": [
        "def prime(p):\n",
        "  if(p==2):\n",
        "    return 1\n",
        "  else:\n",
        "    for i in range(2,p):\n",
        "      if(p%i==0):\n",
        "        return 0\n",
        "    return 1\n",
        "\n",
        "def primitive(g,p):\n",
        "  l=[]\n",
        "  for i in range(1,p):\n",
        "    l.append((pow(g,i))%p)\n",
        "  for i in range(1,p):\n",
        "    if(l.count(i)>1):\n",
        "      return 0\n",
        "  return 1\n",
        "\n",
        "\n",
        "def DH(p,g,pa,pb):\n",
        "  if(prime(p)== 0):\n",
        "    return 0\n",
        "  elif(primitive(g,p)==0):\n",
        "    return 0\n",
        "  else:\n",
        "\n",
        "    ya=pow(g,pa)%p\n",
        "    yb=pow(g,pb)%p\n",
        "    k1=pow(yb,pa)%p\n",
        "    k2=pow(ya,pb)%p\n",
        "\n",
        "\n",
        "    return k1\n",
        "\n",
        "\n",
        "def MIM(p,g,xa,xb,x1,x2):\n",
        "  #new third party has come through and picks up two different keys x1, x2\n",
        "\n",
        "  key1=DH(p,g,xa,x1)\n",
        "  print(\"k1\",key1)\n",
        "  key2=DH(p,g,xb,x2)\n",
        "  print(\"k2\",key2)\n",
        "\n",
        "  if(key1!=key2):\n",
        "    print(\"Man has come in the middle!!!!!!!!\")\n",
        "\n",
        "\n",
        "MIM(11,7,6,8,7,3)\n",
        "\n",
        "\n"
      ],
      "metadata": {
        "id": "UvhGueGrVGrh",
        "colab": {
          "base_uri": "https://localhost:8080/"
        },
        "outputId": "9caaad92-3bc2-4a38-d6c9-35baf7056ef0"
      },
      "execution_count": null,
      "outputs": [
        {
          "output_type": "stream",
          "name": "stdout",
          "text": [
            "k1 5\n",
            "k2 3\n",
            "Man has come in the middle!!!!!!!!\n"
          ]
        }
      ]
    },
    {
      "cell_type": "markdown",
      "source": [
        "Extended Euclidean"
      ],
      "metadata": {
        "id": "0DUfdmULgRcq"
      }
    },
    {
      "cell_type": "code",
      "source": [
        "\n",
        "def exteuclid(a, b):\n",
        "    # Extended euclidian algorithm to find the multiplicative inverse\n",
        "    t1 = 0\n",
        "    t2 = 1\n",
        "\n",
        "    while b > 0:\n",
        "\n",
        "        q = a//b\n",
        "        r = a-q * b\n",
        "        a = b\n",
        "        b = r\n",
        "        t = t1-q * t2\n",
        "        t1 = t2\n",
        "        t2 = t\n",
        "\n",
        "    if t1 < 0:\n",
        "        t1 = t1 % a\n",
        "\n",
        "    return (a)\n",
        "\n",
        "a=35\n",
        "b=15\n",
        "c=exteuclid(a, b)\n",
        "print(c)"
      ],
      "metadata": {
        "id": "VhgWYW8JbvWR",
        "colab": {
          "base_uri": "https://localhost:8080/"
        },
        "outputId": "0b461010-76eb-440b-e99b-b35548acea15"
      },
      "execution_count": null,
      "outputs": [
        {
          "output_type": "stream",
          "name": "stdout",
          "text": [
            "5\n"
          ]
        }
      ]
    }
  ]
}